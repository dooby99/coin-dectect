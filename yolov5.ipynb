{
  "cells": [
    {
      "cell_type": "code",
      "execution_count": null,
      "metadata": {
        "id": "_ZESmw23F7oK"
      },
      "outputs": [],
      "source": [
        "%cd /content/drive/MyDrive/capston"
      ]
    },
    {
      "cell_type": "code",
      "execution_count": null,
      "metadata": {
        "id": "ZTRcgKD3c6O3"
      },
      "outputs": [],
      "source": [
        "from google.colab import drive\n",
        "drive.mount('/content/drive')"
      ]
    },
    {
      "cell_type": "code",
      "execution_count": null,
      "metadata": {
        "id": "q9-mItXyBmNa"
      },
      "outputs": [],
      "source": [
        "# ! git clone https://github.com/ultralytics/yolov5.git"
      ]
    },
    {
      "cell_type": "code",
      "execution_count": null,
      "metadata": {
        "id": "v0q80qYVGKDg"
      },
      "outputs": [],
      "source": [
        "%cd /content/drive/MyDrive/capston/yolov5"
      ]
    },
    {
      "cell_type": "code",
      "execution_count": null,
      "metadata": {
        "id": "aBGdHHrSCxkv"
      },
      "outputs": [],
      "source": [
        "# !pip install -r requirements.txt"
      ]
    },
    {
      "cell_type": "code",
      "execution_count": null,
      "metadata": {
        "id": "B3hK0rCuDAP2"
      },
      "outputs": [],
      "source": [
        "# !python detect.py -h"
      ]
    },
    {
      "cell_type": "code",
      "execution_count": null,
      "metadata": {
        "id": "9_y8yd8GI4OG"
      },
      "outputs": [],
      "source": [
        "%cd /content/drive/MyDrive/capston"
      ]
    },
    {
      "cell_type": "code",
      "execution_count": null,
      "metadata": {
        "id": "q05zVY90GX6I"
      },
      "outputs": [],
      "source": [
        "# !curl -L \"https://app.roboflow.com/ds/NeFX1uBSXb?key=Eay8wIgkOl\" > roboflow.zip; unzip roboflow.zip; rm roboflow.zip"
      ]
    },
    {
      "cell_type": "code",
      "source": [
        "%cat /content/drive/MyDrive/capston/data.yaml"
      ],
      "metadata": {
        "colab": {
          "base_uri": "https://localhost:8080/"
        },
        "id": "rDwkFdr2lAW4",
        "outputId": "91d80bde-3477-48d1-a727-58583306cb1f"
      },
      "execution_count": null,
      "outputs": [
        {
          "output_type": "stream",
          "name": "stdout",
          "text": [
            "train: ../train/images\n",
            "val: ../valid/images\n",
            "test: ../test/images\n",
            "\n",
            "nc: 8\n",
            "names: ['Fifty_back', 'Fifty_front', 'Five_Hundred_back', 'Five_Hundred_front', 'Hundred_back', 'Hundred_front', 'Ten_back', 'Ten_front']\n",
            "\n",
            "roboflow:\n",
            "  workspace: doyoung\n",
            "  project: coin_label\n",
            "  version: 1\n",
            "  license: CC BY 4.0\n",
            "  url: https://universe.roboflow.com/doyoung/coin_label/dataset/1"
          ]
        }
      ]
    },
    {
      "cell_type": "code",
      "execution_count": null,
      "metadata": {
        "id": "x3GDiGjKQFeI"
      },
      "outputs": [],
      "source": [
        "%cd /content/drive/MyDrive/capston/yolov5"
      ]
    },
    {
      "cell_type": "code",
      "execution_count": null,
      "metadata": {
        "id": "rtjjhwtbI52w"
      },
      "outputs": [],
      "source": [
        "!python train.py --img 600 --data /content/drive/MyDrive/capston/data.yaml --epochs 50 --weights 'yolov5m.pt' "
      ]
    },
    {
      "cell_type": "code",
      "execution_count": null,
      "metadata": {
        "id": "Hv1EU88tBT8H"
      },
      "outputs": [],
      "source": [
        "%load_ext tensorboard\n",
        "%tensorboard --logdir /content/drive/MyDrive/capston/yolov5/runs/train/exp3"
      ]
    },
    {
      "cell_type": "code",
      "execution_count": null,
      "metadata": {
        "id": "M5u1KaqjG7OO"
      },
      "outputs": [],
      "source": [
        "!python detect.py --source /content/drive/MyDrive/capston/test/images --weight '/content/drive/MyDrive/capston/yolov5/runs/train/exp3/weights/best.pt'"
      ]
    },
    {
      "cell_type": "code",
      "execution_count": null,
      "metadata": {
        "id": "M_gFuHRiKYO5"
      },
      "outputs": [],
      "source": [
        "!python detect.py --source /content/drive/MyDrive/capston/1123/23.jpg --weight '/content/drive/MyDrive/capston/yolov5/runs/train/exp3/weights/best.pt'"
      ]
    },
    {
      "cell_type": "code",
      "source": [],
      "metadata": {
        "id": "WER6kvwCuse3"
      },
      "execution_count": null,
      "outputs": []
    }
  ],
  "metadata": {
    "colab": {
      "collapsed_sections": [],
      "provenance": [],
      "machine_shape": "hm",
      "mount_file_id": "1DGsaBib83kfPnkUbli5Ms54gxs2BVmEk",
      "authorship_tag": "ABX9TyMQtleqe9CWu3O+QE5lX4ED"
    },
    "kernelspec": {
      "display_name": "Python 3",
      "name": "python3"
    },
    "language_info": {
      "name": "python"
    },
    "accelerator": "GPU",
    "gpuClass": "standard"
  },
  "nbformat": 4,
  "nbformat_minor": 0
}
